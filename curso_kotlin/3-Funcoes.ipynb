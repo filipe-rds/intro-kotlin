{
 "cells": [
  {
   "cell_type": "markdown",
   "metadata": {
    "collapsed": false
   },
   "source": [
    "![Logo do Kotlin](https://upload.wikimedia.org/wikipedia/commons/thumb/d/d4/Kotlin_logo.svg/2560px-Kotlin_logo.svg.png)\n",
    "\n",
    "# Funções\n",
    "\n",
    "## Introdução\n",
    "O que são funções? São trechos de código projetados para serem reutilizados em várias partes de um programa ou sistema, frequentemente referidos como “rotinas” na programação. Funções podem variar em complexidade, desde tarefas simples, como soma(a, b), até aquelas mais sofisticadas, cada uma cumprindo uma tarefa específica.\n",
    "\n",
    "Este documento foi desenvolvido pelos seguintes alunos de TSI do IFPB, sob subervisão do professor Gustavo Wagner (2024):\n",
    "1. Allan Amâncio\n",
    "2. Haniel Costa\n",
    "3. Lavínia Rodrigues\n",
    "4. Márcio José\n",
    "5. Peter Simon\n",
    "6. Yuri Adreano\n",
    "7. Lucas Andrade\n",
    "8. Johnner Yelcde\n",
    "9. Lucas Pedro\n",
    "10. Gabriel Felix\n",
    "11. Filipe Rodrigues\n",
    "\n",
    "\n",
    "## 1. Declaração de Funções\n",
    "Em Kotlin, uma função é declarada usando a palavra-chave **fun**. Cada função deve ter um nome, pode receber parâmetros e pode retornar um valor. Veja um exemplo básico:"
   ]
  },
  {
   "cell_type": "code",
   "metadata": {
    "collapsed": false,
    "ExecuteTime": {
     "end_time": "2024-11-03T16:20:15.224248300Z",
     "start_time": "2024-11-03T16:20:15.183248100Z"
    }
   },
   "source": [
    "fun saudacao(nome: String){\n",
    "    println(\"Bem vindo(a), ${nome}!\")\n",
    "}\n",
    "\n",
    "//Chamando a função\n",
    "saudacao(\"Flávio Neto\")"
   ],
   "outputs": [
    {
     "name": "stdout",
     "output_type": "stream",
     "text": [
      "Bem vindo(a), Flávio Neto!\r\n"
     ]
    }
   ],
   "execution_count": 19
  },
  {
   "cell_type": "markdown",
   "metadata": {
    "collapsed": false
   },
   "source": "O nome da função é `saudacao`, ela tem um parâmetro **nome** do tipo `String`, e não possui retorno. Ela apenas mostra na tela uma mensagem de boas-vindas.\n"
  },
  {
   "metadata": {},
   "cell_type": "markdown",
   "source": [
    "Você também pode atrelar o resultado de uma função a uma variável, basta escrever o nome da função e colocar os argumentos necessários entre parênteses. \n",
    "Aqui abaixo está uma função que exemplifica bem este cenário:"
   ]
  },
  {
   "metadata": {
    "ExecuteTime": {
     "end_time": "2024-11-03T16:20:42.728795400Z",
     "start_time": "2024-11-03T16:20:42.687794900Z"
    }
   },
   "cell_type": "code",
   "source": [
    "fun dizerNomeEhBonito(nome: String):String {\n",
    "    return \"${nome} é um nome bonito!\"\n",
    "}\n",
    "\n",
    "// variável recebendo o retorno da função\n",
    "var resposta = dizerNomeEhBonito(\"Peter Jordan\") \n",
    "println(resposta)"
   ],
   "outputs": [
    {
     "name": "stdout",
     "output_type": "stream",
     "text": [
      "Peter Jordan é um nome bonito!\r\n"
     ]
    }
   ],
   "execution_count": 21
  },
  {
   "cell_type": "markdown",
   "metadata": {
    "collapsed": false
   },
   "source": "No próximo capítulo, iniciaremos nossa exploração sobre o uso de **Classes** em Kotlin. No exemplo a seguir, demonstraremos como é possível invocar funções pertencentes a uma classe, utilizando a notação `.meuMetodo()` depois da própria classe:"
  },
  {
   "cell_type": "code",
   "execution_count": 6,
   "metadata": {
    "ExecuteTime": {
     "end_time": "2024-03-06T01:19:59.202597Z",
     "start_time": "2024-03-06T01:19:59.095658700Z"
    },
    "collapsed": false
   },
   "outputs": [
    {
     "name": "stdout",
     "output_type": "stream",
     "text": [
      "Método sendo chamado!\r\n"
     ]
    }
   ],
   "source": [
    "class Classe() {\n",
    "    fun meuMetodo() {\n",
    "        println(\"Método sendo chamado!\")\n",
    "    }\n",
    "}\n",
    "\n",
    "// Uso da classe e chamada do método\n",
    "val minhaInstancia = Classe() // é criada uma instância de Classe e então é chamado o método nomeMetodo()\n",
    "minhaInstancia.meuMetodo()"
   ]
  },
  {
   "metadata": {},
   "cell_type": "markdown",
   "source": "Aqui está um **spoiler** de como a programação funcional pode ser integrada à programação orientada a objetos em Kotlin: "
  },
  {
   "metadata": {
    "collapsed": false,
    "ExecuteTime": {
     "end_time": "2024-11-03T15:31:11.815629Z",
     "start_time": "2024-11-03T15:31:11.656629100Z"
    }
   },
   "cell_type": "code",
   "outputs": [
    {
     "name": "stdout",
     "output_type": "stream",
     "text": [
      "123.456.789-01\r\n",
      "CPF inválido\r\n"
     ]
    }
   ],
   "execution_count": 14,
   "source": [
    "fun formatarCpf(cpf: String): String {\n",
    "    // Verifica se o CPF tem 11 caracteres e se todos são dígitos\n",
    "    return if ( cpf.length == 11 && cpf.all { it.isDigit() } ) {\n",
    "        \"${cpf.substring(0, 3)}.${cpf.substring(3, 6)}.${cpf.substring(6, 9)}-${cpf.substring(9, 11)}\"\n",
    "    } else {\n",
    "        \"CPF inválido\"\n",
    "    }\n",
    "}\n",
    "\n",
    "val cpfFormatado = formatarCpf(\"12345678901\")\n",
    "println(cpfFormatado) \n",
    "\n",
    "val cpfInvalido = formatarCpf(\"1234567ABCD\")\n",
    "println(cpfInvalido) \n"
   ]
  },
  {
   "metadata": {},
   "cell_type": "markdown",
   "source": "**Observação:** Note que na função `formatarCpf` usamos métodos da classe `String` para efetuar seu processamento de dados."
  },
  {
   "metadata": {},
   "cell_type": "markdown",
   "source": [
    "\n",
    "\n",
    "A validação e formatação do CPF são realizadas na função `formatarCpf`. A função recebe uma `String` representando o CPF e, em seguida, executa duas verificações:\n",
    "\n",
    "1. **Validação**: A função verifica se o CPF possui exatamente 11 caracteres e se todos os caracteres são dígitos. Isso é feito com a condição `cpf.length == 11 && cpf.all { it.isDigit() }`. O método `.all` aplica um teste a cada caractere da string, confirmando se são todos dígitos. Aqui, o uso do lambda `{ it.isDigit() }` permite verificar de forma concisa se cada caractere da string é um dígito. Se ambas as condições forem verdadeiras, o CPF é considerado válido; caso contrário, a função retorna \"CPF inválido\".\n",
    "\n",
    "2. **Formatação**: Se o CPF é válido, a função procede para formatá-lo. Utiliza o método `substring` para dividir a string em quatro partes: os três primeiros dígitos, os três seguintes, os três depois e os dois últimos. A formatação é feita usando a interpolação de strings, resultando na estrutura `xxx.xxx.xxx-xx`. A função então retorna a string formatada.\n",
    "\n"
   ]
  },
  {
   "metadata": {},
   "cell_type": "markdown",
   "source": "**Atenção**: teremos uma explicação mais detalhada sobre o funcionamento do `Lambda` em tópicos posteriores neste capítulo de funções."
  },
  {
   "cell_type": "markdown",
   "metadata": {
    "collapsed": false
   },
   "source": [
    "## 2. Parâmetros"
   ]
  },
  {
   "cell_type": "markdown",
   "metadata": {
    "collapsed": false
   },
   "source": [
    "Parâmetros, são os valores que gostariamos de passar para dentro de uma função. Eles são especificados entre parênteses após o nome da função.\n",
    "\n",
    "Os parâmetros da função são definidos usando a notação *Pascal* - **nome**: **Tipo**, a fim de garantir segurança de tipos e a clareza no código.\n",
    "\n",
    "Os parâmetros são separados por vírgulas e cada parâmetro deve ser digitado explicitamente:"
   ]
  },
  {
   "cell_type": "code",
   "execution_count": 7,
   "metadata": {
    "ExecuteTime": {
     "end_time": "2024-03-06T01:19:59.345284600Z",
     "start_time": "2024-03-06T01:19:59.209080800Z"
    },
    "collapsed": false
   },
   "outputs": [
    {
     "name": "stdout",
     "output_type": "stream",
     "text": [
      "2\r\n"
     ]
    }
   ],
   "source": [
    "fun somar(numero1: Int, numero2: Int): Int { \n",
    "    return numero1 + numero2\n",
    "}\n",
    "\n",
    "println(somar(1,1))"
   ]
  },
  {
   "cell_type": "markdown",
   "metadata": {
    "collapsed": false
   },
   "source": [
    "### 2.1 Tipos de parâmetros\n",
    "Os parâmetros de uma função podem ter tipos primitivos (como `Int`, `Double`, `Boolean`) ou não primitivos (como objetos personalizados, listas, ou até mesmo outras classes definidas pelo usuário).\n",
    "\n",
    "No código abaixo veremos dois exemplos de tipos de parâmetros:"
   ]
  },
  {
   "cell_type": "code",
   "execution_count": 2,
   "metadata": {
    "ExecuteTime": {
     "end_time": "2024-11-03T05:09:01.548816113Z",
     "start_time": "2024-11-03T05:09:01.172115401Z"
    },
    "collapsed": false
   },
   "outputs": [
    {
     "name": "stdout",
     "output_type": "stream",
     "text": [
      "o nome do aluno eh: Gustavo, sua idade eh: 20!\n"
     ]
    }
   ],
   "source": [
    "class Aluno(val nome: String, val idade: Int){}\n",
    "\n",
    "/*Neste exemplo, a função recebe um tipo string como parametro */\n",
    "fun criarAluno(nomeAluno: String, idadeAluno: Int) : Aluno{\n",
    "    return Aluno(nomeAluno, idadeAluno);\n",
    "}\n",
    "\n",
    "/*Neste exemplo, a função recebe um tipo objeto como parametro */\n",
    "fun mostrarNomeAluno(aluno:Aluno){\n",
    "    println(\"o nome do aluno eh: ${aluno.nome}, sua idade eh: ${aluno.idade}!\")\n",
    "}\n",
    "\n",
    "val a1:Aluno = criarAluno(\"Gustavo\", 20);\n",
    "mostrarNomeAluno(a1);"
   ]
  },
  {
   "cell_type": "markdown",
   "metadata": {
    "collapsed": false
   },
   "source": [
    "### 2.2 Atribuição de valores"
   ]
  },
  {
   "cell_type": "markdown",
   "metadata": {
    "collapsed": false
   },
   "source": [
    "Em Kotlin, existe duas maneiras de se atribuir valores aos parâmetros de uma função: Atribuição Posicional e Atribuição Nomeada.\n",
    "\n",
    "A **Atribuição Posicional (Positional Assignment):** é a forma mais comum de passar valores para os parâmetros de uma função. Nesse caso, os valores são atribuídos com base na ordem em que os parâmetros aparecem na assinatura da função. A ordem dos argumentos na chamada da função deve corresponder exatamente à ordem dos parâmetros definidos na função."
   ]
  },
  {
   "cell_type": "code",
   "execution_count": 9,
   "metadata": {
    "ExecuteTime": {
     "end_time": "2024-03-06T01:19:59.657644200Z",
     "start_time": "2024-03-06T01:19:59.561304500Z"
    },
    "collapsed": false
   },
   "outputs": [
    {
     "name": "stdout",
     "output_type": "stream",
     "text": [
      "Nome: Alice, Idade: 25\r\n"
     ]
    }
   ],
   "source": [
    "fun imprimirDados(nome: String, idade: Int) {\n",
    "    println(\"Nome: $nome, Idade: $idade\")\n",
    "}\n",
    "\n",
    "// Atribuição posicional\n",
    "imprimirDados(\"Alice\", 25)"
   ]
  },
  {
   "cell_type": "markdown",
   "metadata": {
    "collapsed": false
   },
   "source": [
    "A **Atribuição Nomeada (Named Assignment):** permite atribuir valores aos parâmetros especificando o nome do parâmetro seguido por = e o valor desejado. Embora essa abordagem não seja a mais comum, ela é especialmente útil para melhorar a clareza do código, principalmente em funções com muitos parâmetros ou quando usamos parâmetros opcionais.\n",
    "\n",
    "Essa técnica possibilita indicar exatamente qual valor corresponde a cada parâmetro, independentemente da ordem deles na chamada da função. Isso ajuda a evitar confusões e facilita a leitura, pois torna mais claro o propósito de cada argumento."
   ]
  },
  {
   "cell_type": "code",
   "execution_count": 10,
   "metadata": {
    "ExecuteTime": {
     "end_time": "2024-03-06T01:19:59.759276900Z",
     "start_time": "2024-03-06T01:19:59.661649200Z"
    },
    "collapsed": false
   },
   "outputs": [
    {
     "name": "stdout",
     "output_type": "stream",
     "text": [
      "Nome: Kleber, Idade: 45 \r\n"
     ]
    }
   ],
   "source": [
    "fun imprimirDadosParametrosInvertidos(idade: Int, nome: String) {\n",
    "    println(\"Nome: $nome, Idade: $idade \")\n",
    "}\n",
    "\n",
    "// Atribuição Nomeada\n",
    "imprimirDadosParametrosInvertidos(nome=\"Kleber\",  idade=45)"
   ]
  },
  {
   "cell_type": "markdown",
   "metadata": {
    "collapsed": false
   },
   "source": [
    "### 2.3 Parâmetros Padrão (Default Parameters):\n",
    "Caso a sua função possua a necessidade de garantir que um parâmetro possua sempre algum valor, o Kotlin permite definir valores padrão para os parâmetros. Isso significa que você pode fornecer valores padrão para alguns ou todos os parâmetros de uma função, permitindo que chamadores da função omitam esses parâmetros se desejarem.\n",
    "\n",
    "**Veja o exemplo abaixo**:"
   ]
  },
  {
   "cell_type": "code",
   "execution_count": 11,
   "metadata": {
    "ExecuteTime": {
     "end_time": "2024-03-06T01:19:59.986680Z",
     "start_time": "2024-03-06T01:19:59.763736900Z"
    },
    "collapsed": false
   },
   "outputs": [
    {
     "name": "stdout",
     "output_type": "stream",
     "text": [
      "Allan saudou com um: Bom dia \r\n"
     ]
    }
   ],
   "source": [
    "fun saudar(nome:String, saudacao:String =\"Bom dia\"){\n",
    "    println(\"$nome saudou com um: $saudacao \")\n",
    "}\n",
    "saudar(\"Allan\")"
   ]
  },
  {
   "cell_type": "markdown",
   "metadata": {
    "collapsed": false
   },
   "source": [
    "### 2.4 Infinitos Parâmetros (vararg e spread):"
   ]
  },
  {
   "cell_type": "markdown",
   "metadata": {
    "collapsed": false
   },
   "source": [
    "Em Kotlin,  existe a possibilidade de permitir que um parâmetro receba infinitos argumentos do mesmo tipo, através do recurso ***vararg***, o qual permite que uma função aceite um número variável de argumentos do mesmo tipo.\n",
    "\n",
    "Dentro do escopo da função, o **parâmetro** declarado como ***vararg*** é tratado como um ***array***, e você pode iterar sobre os elementos ou usá-los de outras maneiras.  \n",
    "\n",
    "Existem duas formas de passar os valores para um  ***vararg***: você pode passar os valores desejados diretamente na chamada da função, ou você pode utilizar o operador \"*\" (*Spread*) para descompactar uma lista de valores. Veja o exemplo abaixo.\n"
   ]
  },
  {
   "cell_type": "markdown",
   "metadata": {},
   "source": [
    "#### Benefícios do uso de vararg\n",
    "\n",
    "- __Flexibilidade__: Permite que a função aceite um número variável de argumentos, evitando a necessidade de sobrecarga de funções ou definições complicadas de parâmetros.\n",
    "- __Simplicidade__: Torna as chamadas de função mais simples e intuitivas, especialmente quando se trabalha com uma lista de valores."
   ]
  },
  {
   "cell_type": "code",
   "execution_count": 12,
   "metadata": {
    "ExecuteTime": {
     "end_time": "2024-03-06T01:20:00.558704800Z",
     "start_time": "2024-03-06T01:19:59.990280200Z"
    },
    "collapsed": false
   },
   "outputs": [
    {
     "name": "stdout",
     "output_type": "stream",
     "text": [
      "600\r\n",
      "0\r\n"
     ]
    }
   ],
   "source": [
    "// Definindo uma função chamada encontrarMaiorNumero que aceita um número variável de argumentos (varargs) inteiros\n",
    "fun encontrarMaiorNumero(vararg numeros: Int): Int? {\n",
    "    if (numeros.isEmpty()) {\n",
    "        return null;\n",
    "    }\n",
    "\n",
    "    var maiorNumero = numeros[0];\n",
    "\n",
    "    for (numero in numeros) {\n",
    "        if (numero > maiorNumero) {\n",
    "            maiorNumero = numero;\n",
    "        }\n",
    "    }\n",
    "\n",
    "    return maiorNumero;\n",
    "}\n",
    "\n",
    "// Exemplo de chamada da função com valores diretamente fornecidos\n",
    "println(encontrarMaiorNumero(1, 2, 3, 4, 5, 600, 7, 8, 9, 10))\n",
    "\n",
    "// Exemplo de chamada da função com descompactação de lista usando o operador spread '*'\n",
    "val valores = listOf(-4, -5, 0, -1, -9, -8)\n",
    "println(encontrarMaiorNumero(*valores.toIntArray()))"
   ]
  },
  {
   "cell_type": "markdown",
   "metadata": {
    "collapsed": false
   },
   "source": [
    "O uso de parâmetros ***varargs*** é uma maneira eficiente e flexível de lidar com funções que podem aceitar um número variável de argumentos do mesmo tipo. Isso é comumente utilizado para simplificar chamadas de funções com diferentes quantidades de parâmetros."
   ]
  },
  {
   "cell_type": "markdown",
   "metadata": {},
   "source": [
    "### 2.5 Funções como Parâmetros:"
   ]
  },
  {
   "cell_type": "markdown",
   "metadata": {},
   "source": [
    "Em Kotlin, é possível passar outras funções como parâmetro para outras funções, uma técnica bastante eficiente, que nos permite construir comportamentos dinâmicos e flexíveis. Essa abordagem permite definir uma função que aceita outra função como argumento, e então chamá-la dentro do escopo da função principal.\n"
   ]
  },
  {
   "cell_type": "code",
   "metadata": {
    "ExecuteTime": {
     "end_time": "2024-11-07T14:49:55.211253300Z",
     "start_time": "2024-11-07T14:49:54.968936800Z"
    }
   },
   "source": [
    "fun saudacaoFormal(nome:String):String { return \"Olá Sr. $nome, é um prazer conhecê-lo.\" }\n",
    "\n",
    "fun saudacaoDescontraida(nome: String):String { return \"E aí $nome, como tu tá?\" }\n",
    "\n",
    "fun saudacao(nome:String, estiloSaudacao: (String)->String):String{\n",
    "    return estiloSaudacao(nome)\n",
    "}\n",
    "\n",
    "\n",
    "println(saudacao(\"Gabriel Félix\", ::saudacaoDescontraida))\n",
    "\n",
    "println(saudacao(\"Gabriel Félix\", ::saudacaoFormal))"
   ],
   "outputs": [
    {
     "name": "stdout",
     "output_type": "stream",
     "text": [
      "E aí Gabriel Félix, como tu tá?\r\n",
      "Olá Sr. Gabriel Félix, é um prazer conhecê-lo.\r\n"
     ]
    }
   ],
   "execution_count": 1
  },
  {
   "cell_type": "markdown",
   "metadata": {
    "collapsed": false
   },
   "source": [
    "## 3. Retornos\n",
    "Uma função sempre terá um retorno, mas nem sempre ele será explícito. Portanto, quanto ao tipo de retorno, as funções são divididas em dois tipos: **funções de retorno implícito** e **funções de retorno explícito**.\n",
    "\n",
    "### 3.1 Funções de retorno implícito\n",
    "Explicando de forma didática, o retorno implícito é o *Void* que já conhecemos de outras linguagens. Porém, em Kotlin, não será *Void*, mas sim ***Unit***. Lembrando que funções de retorno implícito podem ter seu tipo também implícito, isto é, podemos colocar “Unit” ou não. Vejam as possibilidades:"
   ]
  },
  {
   "cell_type": "code",
   "execution_count": 13,
   "metadata": {
    "ExecuteTime": {
     "end_time": "2024-03-06T01:20:00.652004800Z",
     "start_time": "2024-03-06T01:20:00.562701100Z"
    },
    "collapsed": false
   },
   "outputs": [
    {
     "name": "stdout",
     "output_type": "stream",
     "text": [
      "Olá, Mundo!\r\n"
     ]
    }
   ],
   "source": [
    "// Função de retorno implícito, colocando o \"Unit\" e sem parâmetros\n",
    "fun printOlaMundo(): Unit {\n",
    "    println(\"Olá, Mundo!\")\n",
    "}\n",
    "\n",
    "printOlaMundo()"
   ]
  },
  {
   "cell_type": "code",
   "execution_count": 14,
   "metadata": {
    "ExecuteTime": {
     "end_time": "2024-03-06T01:20:00.781448800Z",
     "start_time": "2024-03-06T01:20:00.657010100Z"
    },
    "collapsed": false
   },
   "outputs": [
    {
     "name": "stdout",
     "output_type": "stream",
     "text": [
      "Olá, Marte!\r\n"
     ]
    }
   ],
   "source": [
    "// Função de retorno implícito, sem colocar o \"Unit\" e com parâmetros\n",
    "fun printOlaPlaneta(planeta: String) {\n",
    "    println(\"Olá, $planeta!\")\n",
    "}\n",
    "\n",
    "printOlaPlaneta(\"Marte\")"
   ]
  },
  {
   "cell_type": "code",
   "execution_count": 15,
   "metadata": {
    "ExecuteTime": {
     "end_time": "2024-03-06T01:20:00.893674600Z",
     "start_time": "2024-03-06T01:20:00.785564700Z"
    },
    "collapsed": false
   },
   "outputs": [
    {
     "name": "stdout",
     "output_type": "stream",
     "text": [
      "Funcionário do ID 3 agora possui o seguinte cargo: Desenvolvedor Sênior.\r\n"
     ]
    }
   ],
   "source": [
    "// Função para atualizar o cargo profissional de algum funcionário\n",
    "fun atualizarCargo(id: Int, novoCargo: String): Unit {\n",
    "    println(\"Funcionário do ID $id agora possui o seguinte cargo: $novoCargo.\")\n",
    "}\n",
    "\n",
    "atualizarCargo(3, \"Desenvolvedor Sênior\")"
   ]
  },
  {
   "cell_type": "markdown",
   "metadata": {},
   "source": [
    "### Considerações Finais\n",
    "\n",
    "- __Uso do Unit__: Em muitos casos, funções que realizam operações como impressão, manipulação de dados ou execução de comandos são frequentemente definidas com retorno implícito, pois o foco está na execução da ação, e não na obtenção de um valor.\n",
    "\n",
    "- __Consistência__: A utilização de Unit contribui para a clareza do código, pois deixa evidente que o propósito da função é executar uma tarefa sem retornar um resultado útil."
   ]
  },
  {
   "cell_type": "markdown",
   "metadata": {
    "collapsed": false
   },
   "source": [
    "### 3.2 Funções de retorno explícito\n",
    "Agora que compreendemos as **funções de retorno implícito**, vamos explorar as **funções de retorno explícito**. Essas são funções em que os resultados precisam ser explicitamente declarados (🤯). Sim, é isso mesmo: o tipo de retorno deve ser especificado, é uma exigência!\n",
    "\n",
    "Vejamos alguns exemplos:"
   ]
  },
  {
   "cell_type": "code",
   "execution_count": 3,
   "metadata": {
    "ExecuteTime": {
     "end_time": "2024-11-03T05:17:08.857949565Z",
     "start_time": "2024-11-03T05:17:07.984342131Z"
    },
    "collapsed": false
   },
   "outputs": [],
   "source": [
    "// Soma dois números e retorna um valor inteiro\n",
    "fun somar(a: Int, b: Int): Int {\n",
    "    return a + b\n",
    "}\n",
    "\n",
    "// Lê dois números, calcula a média deles e retorna um valor decimal\n",
    "fun calcularMedia (n1: Double, n2: Double): Double {\n",
    "\treturn (n1+n2) / 2\n",
    "}\n",
    "\n",
    "// Lê um número e retorna um booleano para caso ele seja par\n",
    "fun numeroPar(numero: Int): Boolean {\n",
    "    return numero % 2 == 0\n",
    "}\n",
    "\n",
    "// Cria uma lista imutável de strings\n",
    "fun criarLista(): List<String> {\n",
    "    return listOf(\"Paraíba\", \"Pernambuco\", \"Ceará\")\n",
    "}\n",
    "\n",
    "// Cria uma lista mutável de inteiros\n",
    "fun criarListaMutavel(): MutableList<Int> {\n",
    "    return mutableListOf(1, 2, 3)\n",
    "}\n",
    "\n",
    "// Converte uma temperatura de Celsius para Fahrenheit e retorna um valor decimal\n",
    "fun converterCelsiusParaFahrenheit(celsius: Double): Double {\n",
    "    return (celsius * 9 / 5) + 32\n",
    "}\n",
    "\n",
    "// Calcula o quadrado de um número\n",
    "fun calcularQuadrado(numero: Int): Int {\n",
    "    return numero * numero\n",
    "}"
   ]
  },
  {
   "cell_type": "markdown",
   "metadata": {
    "collapsed": false
   },
   "source": [
    "### 3.3 Sugestão\n",
    "Aqui vai uma dica valiosa: se a sua função consiste em apenas uma linha de código que retorna um valor, você pode utilizar a \"sintaxe de expressão de função\" para tornar a sua escrita ainda mais concisa. Por exemplo:"
   ]
  },
  {
   "cell_type": "code",
   "execution_count": 17,
   "metadata": {
    "ExecuteTime": {
     "end_time": "2024-03-06T01:20:01.199698600Z",
     "start_time": "2024-03-06T01:20:01.105245200Z"
    },
    "collapsed": false
   },
   "outputs": [
    {
     "data": {
      "text/plain": [
       "30"
      ]
     },
     "execution_count": 17,
     "metadata": {},
     "output_type": "execute_result"
    }
   ],
   "source": [
    "// Aquela mesma função somar apresentada anteriormente\n",
    "fun somar(a: Int, b: Int) = a + b\n",
    "\n",
    "somar(20, 10)"
   ]
  },
  {
   "cell_type": "markdown",
   "metadata": {
    "collapsed": false
   },
   "source": [
    "Nesse caso, o compilador é capaz de inferir o tipo de retorno da função como ***Int***, então você não precisa especificá-lo explicitamente."
   ]
  },
  {
   "cell_type": "markdown",
   "metadata": {
    "collapsed": false
   },
   "source": [
    "## 4. Funções de ordem superior\n",
    "\n",
    "As funções de ordem superior são aquelas capazes de receber outras funções como parâmetros ou retorná-las. Em Kotlin, você pode definir funções de ordem superior utilizando tipos de função ou lambdas. Para definir uma função de ordem superior, você pode especificar um parâmetro que é uma função.\n",
    "\n",
    "### 4.1 Definindo uma função de ordem superior que recebe outra função como parâmetro"
   ]
  },
  {
   "cell_type": "code",
   "execution_count": 18,
   "metadata": {
    "ExecuteTime": {
     "end_time": "2024-03-06T01:20:01.334415600Z",
     "start_time": "2024-03-06T01:20:01.205655300Z"
    },
    "collapsed": false
   },
   "outputs": [],
   "source": [
    "fun operacao(a: Double, b: Double, operador: (Double, Double) \n",
    "-> Double): Double {\n",
    "    return operador(a, b)\n",
    "}"
   ]
  },
  {
   "cell_type": "markdown",
   "metadata": {
    "collapsed": false
   },
   "source": [
    "Em resumo, essa função operacao() permite que você realize uma operação (definida pela função operador) em dois números decimais (a e b). O resultado da operação é então retornado como um valor decimal. A flexibilidade dessa função reside no fato de que você pode passar diferentes operadores para realizar diferentes tipos de operações."
   ]
  },
  {
   "cell_type": "markdown",
   "metadata": {
    "collapsed": false
   },
   "source": [
    "### 4.2 Definindo funções que serão passadas como parâmetro"
   ]
  },
  {
   "cell_type": "code",
   "execution_count": 19,
   "metadata": {
    "ExecuteTime": {
     "end_time": "2024-03-06T01:20:01.433234500Z",
     "start_time": "2024-03-06T01:20:01.337428200Z"
    },
    "collapsed": false
   },
   "outputs": [],
   "source": [
    "//Função somar recebe dois números e soma\n",
    "fun soma(x: Double, y: Double): Double {\n",
    "    return x + y\n",
    "}\n",
    "\n",
    "//Função subtração recebe dois números e subtraí \n",
    "fun subtracao(x: Double, y: Double): Double {\n",
    "    return x - y\n",
    "}"
   ]
  },
  {
   "cell_type": "markdown",
   "metadata": {
    "collapsed": false
   },
   "source": [
    "### 4.3 Hora de executar"
   ]
  },
  {
   "cell_type": "code",
   "execution_count": 20,
   "metadata": {
    "ExecuteTime": {
     "end_time": "2024-03-06T01:20:01.775312400Z",
     "start_time": "2024-03-06T01:20:01.437239700Z"
    },
    "collapsed": false
   },
   "outputs": [
    {
     "name": "stdout",
     "output_type": "stream",
     "text": [
      "Resultado da soma: 15.0\r\n",
      "Resultado da subtração: 5.0\r\n",
      "Resultado da multiplicação: 50.0\r\n"
     ]
    }
   ],
   "source": [
    "fun operacao(a: Double, b: Double, operador: (Double, Double) \n",
    "-> Double): Double {\n",
    "    return operador(a, b)\n",
    "}\n",
    "\n",
    "fun soma(x: Double, y: Double): Double {\n",
    "    return x + y\n",
    "}\n",
    "\n",
    "fun subtracao(x: Double, y: Double): Double {\n",
    "    return x - y\n",
    "}\n",
    "\n",
    "// Passando a função soma como parâmetro\n",
    "val resultadoSoma = operacao(10.0, 5.0, ::soma) \n",
    "println(\"Resultado da soma: $resultadoSoma\")\n",
    "\n",
    "// Passando a função subtração como parâmetro\n",
    "val resultadoSubtracao = operacao(10.0, 5.0, ::subtracao) \n",
    "println(\"Resultado da subtração: $resultadoSubtracao\")\n",
    "\n",
    "// Usando uma função lambda diretamente como parâmetro\n",
    "val resultadoMultiplicacao = operacao(10.0, 5.0) { x, y -> x * y }\n",
    "println(\"Resultado da multiplicação: $resultadoMultiplicacao\")"
   ]
  },
  {
   "cell_type": "markdown",
   "metadata": {
    "collapsed": false
   },
   "source": [
    "## 5. Lambdas\n",
    "Lambdas são expressões de função anônimas que podem ser atribuídas a variáveis ou passadas como argumentos para funções. Em Kotlin, elas são escritas usando a sintaxe “{ argumentos -> corpo }”. Elas podem ser utilizadas em diversos contextos, como callbacks, manipulação de coleções e funções de ordem superior. Vamos explorar como funcionam as lambdas em Kotlin.\n",
    "\n",
    "### 5.1 Sintaxe:"
   ]
  },
  {
   "cell_type": "code",
   "execution_count": 21,
   "metadata": {
    "ExecuteTime": {
     "end_time": "2024-03-06T01:20:01.862246600Z",
     "start_time": "2024-03-06T01:20:01.779390900Z"
    },
    "collapsed": false
   },
   "outputs": [],
   "source": [
    "val sum: (Int, Int) -> Int = { x: Int, y: Int -> x + y }"
   ]
  },
  {
   "cell_type": "markdown",
   "metadata": {
    "collapsed": false
   },
   "source": [
    "Outras formas:"
   ]
  },
  {
   "cell_type": "code",
   "execution_count": 22,
   "metadata": {
    "ExecuteTime": {
     "end_time": "2024-03-06T01:20:01.967544200Z",
     "start_time": "2024-03-06T01:20:01.865003500Z"
    },
    "collapsed": false
   },
   "outputs": [],
   "source": [
    "val sum: (Int, Int) -> Int = { x, y -> x + y }\n",
    "val sum1 = { x: Int, y: Int -> x + y }"
   ]
  },
  {
   "cell_type": "markdown",
   "metadata": {
    "collapsed": false
   },
   "source": [
    "- Uma expressão lambda é sempre cercada por chaves.\n",
    "- Os parâmetros são descritos na parte que antecede a seta ( “->” ).\n",
    "- O corpo da função corresponde ao conteúdo escrito após a seta."
   ]
  },
  {
   "cell_type": "markdown",
   "metadata": {
    "collapsed": false
   },
   "source": [
    "### 5.2 Exemplos de uso:"
   ]
  },
  {
   "cell_type": "code",
   "execution_count": 23,
   "metadata": {
    "ExecuteTime": {
     "end_time": "2024-03-06T01:20:02.112343700Z",
     "start_time": "2024-03-06T01:20:01.970997Z"
    },
    "collapsed": false
   },
   "outputs": [
    {
     "name": "stdout",
     "output_type": "stream",
     "text": [
      "25\r\n"
     ]
    }
   ],
   "source": [
    "val quadrado: (Int) -> Int = { x: Int -> (x * x)}\n",
    "println(quadrado(5))"
   ]
  },
  {
   "cell_type": "markdown",
   "metadata": {
    "collapsed": false
   },
   "source": [
    "É possível escrever mais que uma expressão/linha de código no corpo de uma Lambda, mas ao contrário das funções normais, as Lambdas não aceitam um retorno explícito (”return”)."
   ]
  },
  {
   "cell_type": "code",
   "execution_count": 24,
   "metadata": {
    "ExecuteTime": {
     "end_time": "2024-03-06T01:20:02.286399900Z",
     "start_time": "2024-03-06T01:20:02.115342600Z"
    },
    "collapsed": false
   },
   "outputs": [
    {
     "name": "stdout",
     "output_type": "stream",
     "text": [
      "Proteina necessaria: Mais que um boi!\n",
      "Tipo do dado retornado: String\r\n"
     ]
    }
   ],
   "source": [
    "val proteinaNecessariaPorPeso = { peso: Int ->\n",
    "    val resultado = peso * 0.8\n",
    "\n",
    "    if (resultado < 96) {\n",
    "        resultado // Retorno implícito, do tipo Double.\n",
    "    } else {\n",
    "        \"Mais que um boi!\" // Retorno implícito, do tipo String.\n",
    "    }\n",
    "}\n",
    "\n",
    "val resultado = proteinaNecessariaPorPeso(130)\n",
    "println(\"Proteina necessaria: $resultado\\nTipo do dado retornado: ${resultado::class.simpleName}\")"
   ]
  },
  {
   "cell_type": "markdown",
   "metadata": {
    "collapsed": false
   },
   "source": [
    "Lambda anônima declarada como parâmetro de outra função (na lista de parâmetros):"
   ]
  },
  {
   "cell_type": "code",
   "execution_count": 25,
   "metadata": {
    "ExecuteTime": {
     "end_time": "2024-03-06T01:20:02.394433Z",
     "start_time": "2024-03-06T01:20:02.290414400Z"
    },
    "collapsed": false
   },
   "outputs": [
    {
     "name": "stdout",
     "output_type": "stream",
     "text": [
      "25\r\n"
     ]
    }
   ],
   "source": [
    "fun quadradoLambda(lambda: (Int) -> Int, numero: Int ) = println(lambda(numero))\n",
    "quadradoLambda({ x: Int -> (x * x)}, 5)"
   ]
  }
 ],
 "metadata": {
  "kernelspec": {
   "display_name": "Kotlin",
   "language": "kotlin",
   "name": "kotlin"
  },
  "ktnbPluginMetadata": {
   "projectDependencies": [
    "introducao-kotlin"
   ]
  },
  "language_info": {
   "codemirror_mode": "text/x-kotlin",
   "file_extension": ".kt",
   "mimetype": "text/x-kotlin",
   "name": "kotlin",
   "nbconvert_exporter": "",
   "pygments_lexer": "kotlin",
   "version": "1.9.0"
  }
 },
 "nbformat": 4,
 "nbformat_minor": 0
}
